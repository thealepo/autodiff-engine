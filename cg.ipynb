{
 "cells": [
  {
   "cell_type": "code",
   "execution_count": 1,
   "id": "880ba3d5",
   "metadata": {},
   "outputs": [],
   "source": [
    "from graphviz import Digraph\n",
    "\n",
    "def trace(root):\n",
    "    nodes , edges = set() , set()\n",
    "    def build(v):\n",
    "        if v not in nodes:\n",
    "            nodes.add(v)\n",
    "            for child in v._prev:\n",
    "                edges.add((child,v))\n",
    "                build(child)\n",
    "    build(root)\n",
    "    return nodes , edges\n",
    "\n",
    "def draw(root):\n",
    "    dot = Digraph(format='svg' , graph_attr={'rankdir': 'LR'})\n",
    "\n",
    "    nodes , edges = trace(root)\n",
    "    for n in nodes:\n",
    "        uid = str(id(n))\n",
    "        dot.node(name = uid , label = \"{ %s | data %.4f | grad %.4f }\" % (n.label , n.data , n.grad) , shape=\"record\")\n",
    "        if n._op:\n",
    "            dot.node(name = uid + n._op , label = n._op)\n",
    "            dot.edge(uid + n._op , uid)\n",
    "    for n1 , n2 in edges:\n",
    "        dot.edge(str(id(n1)) , str(id(n2)) + n2._op)\n",
    "\n",
    "    return dot"
   ]
  },
  {
   "cell_type": "markdown",
   "id": "c6c46b8d",
   "metadata": {},
   "source": [
    "**Backpropogation Example**"
   ]
  }
 ],
 "metadata": {
  "kernelspec": {
   "display_name": "Python 3",
   "language": "python",
   "name": "python3"
  },
  "language_info": {
   "codemirror_mode": {
    "name": "ipython",
    "version": 3
   },
   "file_extension": ".py",
   "mimetype": "text/x-python",
   "name": "python",
   "nbconvert_exporter": "python",
   "pygments_lexer": "ipython3",
   "version": "3.11.9"
  }
 },
 "nbformat": 4,
 "nbformat_minor": 5
}
